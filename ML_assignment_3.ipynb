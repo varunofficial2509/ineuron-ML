{
  "nbformat": 4,
  "nbformat_minor": 0,
  "metadata": {
    "colab": {
      "name": "ML assignment 3.ipynb",
      "provenance": [],
      "authorship_tag": "ABX9TyMrwMUyL2pdGGn4b8dUQr+D",
      "include_colab_link": true
    },
    "kernelspec": {
      "name": "python3",
      "display_name": "Python 3"
    }
  },
  "cells": [
    {
      "cell_type": "markdown",
      "metadata": {
        "id": "view-in-github",
        "colab_type": "text"
      },
      "source": [
        "<a href=\"https://colab.research.google.com/github/varunofficial2509/ineuron-ML/blob/master/ML_assignment_3.ipynb\" target=\"_parent\"><img src=\"https://colab.research.google.com/assets/colab-badge.svg\" alt=\"Open In Colab\"/></a>"
      ]
    },
    {
      "cell_type": "markdown",
      "metadata": {
        "id": "DJLpbcfeuR-j",
        "colab_type": "text"
      },
      "source": [
        "### problem 1.1"
      ]
    },
    {
      "cell_type": "code",
      "metadata": {
        "id": "3-85vTIEWLal",
        "colab_type": "code",
        "colab": {
          "base_uri": "https://localhost:8080/",
          "height": 34
        },
        "outputId": "f7b61584-35a3-4c0f-f4b2-a997cb95c607"
      },
      "source": [
        "\"\"\"\n",
        "Problem Statement​ ​1:\n",
        "Write a Python Program to implement your own myreduce() function which works exactly\n",
        "like Python's built-in function reduce()\n",
        "\"\"\"\n",
        "\n",
        "def myreduce(anyfunc, sequence):\n",
        "  result = sequence[0]\n",
        "  for item in sequence[1:]:\n",
        "   result = anyfunc(result, item)\n",
        "  return result\n",
        "def sum(x,y): return x + y\n",
        "print (\"Sum on list [1,2,3] using custom reduce function \"   + str(myreduce(sum, [1,2,3])) )\n"
      ],
      "execution_count": null,
      "outputs": [
        {
          "output_type": "stream",
          "text": [
            "Sum on list [1,2,3] using custom reduce function 6\n"
          ],
          "name": "stdout"
        }
      ]
    },
    {
      "cell_type": "markdown",
      "metadata": {
        "id": "3fNipGjGudkY",
        "colab_type": "text"
      },
      "source": [
        "#### 1.2"
      ]
    },
    {
      "cell_type": "code",
      "metadata": {
        "id": "h5idUi_2pc7C",
        "colab_type": "code",
        "colab": {
          "base_uri": "https://localhost:8080/",
          "height": 34
        },
        "outputId": "a77180e9-1276-4ea2-dad9-cbd68427bb6b"
      },
      "source": [
        "'''Problem Statement​ ​2:\n",
        "Write a Python program to implement your own myfilter() function which works exactly\n",
        "like Python's built-in function filter()'''\n",
        "\n",
        "def myfilter(anyfunc, sequence):\n",
        "\n",
        " \n",
        " result = []\n",
        " for item in sequence:\n",
        "  if anyfunc(item):\n",
        "   result.append(item)\n",
        "\n",
        "\n",
        "  return result\n",
        "\n",
        " def ispositive(x):\n",
        "   if (x <= 0): \n",
        "     return False \n",
        "   else: \n",
        "     return True\n",
        "\n",
        "print (\"Filter only positive Integers on list [0,1,-2,3,4,5] using custom filter function\"  + str(myfilter(ispositive, [0,1,-2,3,4,5])))\n"
      ],
      "execution_count": null,
      "outputs": [
        {
          "output_type": "stream",
          "text": [
            "Filter only positive Integers on list [0,1,-2,3,4,5] using custom filter function[]\n"
          ],
          "name": "stdout"
        }
      ]
    },
    {
      "cell_type": "markdown",
      "metadata": {
        "id": "n0DLZeGZ6Xjj",
        "colab_type": "text"
      },
      "source": [
        "### Problem 2"
      ]
    },
    {
      "cell_type": "code",
      "metadata": {
        "id": "fF2QHvyft_Fh",
        "colab_type": "code",
        "colab": {
          "base_uri": "https://localhost:8080/",
          "height": 118
        },
        "outputId": "f0dcca46-3919-49c5-9916-ac6c2987cf96"
      },
      "source": [
        "word = \"ACADGILD\"\n",
        "alphabet_list = [ alphabet for alphabet in word ]\n",
        "print (\"ACADGILD => \" + str(alphabet_list))\n",
        "\n",
        "#########\n",
        "# Compress above for loop into a single list comprehension using technique [i <Upper for condition> <lower for condition>]\n",
        "input_list = ['x','y','z']\n",
        "result = [ item*num for item in input_list for num in range(1,5)  ]\n",
        "print(\"['x','y','z'] => \" +   str(result))\n",
        "\n",
        "#########\n",
        "# Compress above for loop into a single list comprehension using technique [i <Upper for condition> <lower for condition>]\n",
        "input_list = ['x','y','z']\n",
        "result = [ item*num for num in range(1,5) for item in input_list  ]\n",
        "print(\"['x','y','z'] => \" +   str(result))\n",
        "\n",
        "#########\n",
        "input_list = [2,3,4]\n",
        "result = [ [item+num] for item in input_list for num in range(0,3)]\n",
        "print(\"[2,3,4] =>\" +  str(result))\n",
        "\n",
        "#########\n",
        "input_list = [2,3,4,5]\n",
        "result = [ [item+num for item in input_list] for num in range(0,4)  ]\n",
        "print(\"[2,3,4,5] =>\" +  str(result))\n",
        "\n",
        "#########\n",
        "input_list=[1,2,3]\n",
        "result = [ (b,a) for a in input_list for b in input_list]\n",
        "print(\"[1,2,3] =>\" +  str(result))"
      ],
      "execution_count": null,
      "outputs": [
        {
          "output_type": "stream",
          "text": [
            "ACADGILD => ['A', 'C', 'A', 'D', 'G', 'I', 'L', 'D']\n",
            "['x','y','z'] => ['x', 'xx', 'xxx', 'xxxx', 'y', 'yy', 'yyy', 'yyyy', 'z', 'zz', 'zzz', 'zzzz']\n",
            "['x','y','z'] => ['x', 'y', 'z', 'xx', 'yy', 'zz', 'xxx', 'yyy', 'zzz', 'xxxx', 'yyyy', 'zzzz']\n",
            "[2,3,4] =>[[2], [3], [4], [3], [4], [5], [4], [5], [6]]\n",
            "[2,3,4,5] =>[[2, 3, 4, 5], [3, 4, 5, 6], [4, 5, 6, 7], [5, 6, 7, 8]]\n",
            "[1,2,3] =>[(1, 1), (2, 1), (3, 1), (1, 2), (2, 2), (3, 2), (1, 3), (2, 3), (3, 3)]\n"
          ],
          "name": "stdout"
        }
      ]
    },
    {
      "cell_type": "code",
      "metadata": {
        "id": "vSg_PEET6VEF",
        "colab_type": "code",
        "colab": {}
      },
      "source": [
        ""
      ],
      "execution_count": null,
      "outputs": []
    }
  ]
}