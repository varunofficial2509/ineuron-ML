{
  "nbformat": 4,
  "nbformat_minor": 0,
  "metadata": {
    "kernelspec": {
      "display_name": "Python 3",
      "language": "python",
      "name": "python3"
    },
    "language_info": {
      "codemirror_mode": {
        "name": "ipython",
        "version": 3
      },
      "file_extension": ".py",
      "mimetype": "text/x-python",
      "name": "python",
      "nbconvert_exporter": "python",
      "pygments_lexer": "ipython3",
      "version": "3.7.6"
    },
    "colab": {
      "name": "Numpy.ipynb",
      "provenance": [],
      "include_colab_link": true
    }
  },
  "cells": [
    {
      "cell_type": "markdown",
      "metadata": {
        "id": "view-in-github",
        "colab_type": "text"
      },
      "source": [
        "<a href=\"https://colab.research.google.com/github/varunofficial2509/ineuron-ML/blob/master/Numpy.ipynb\" target=\"_parent\"><img src=\"https://colab.research.google.com/assets/colab-badge.svg\" alt=\"Open In Colab\"/></a>"
      ]
    },
    {
      "cell_type": "markdown",
      "metadata": {
        "id": "StwYuq2aHdTZ",
        "colab_type": "text"
      },
      "source": [
        "##### Write a function so that the columns of the output matrix are powers of the input vector. The order of the powers is determined by the increasing boolean argument. Specifically, when increasing is False, the i-th output column is the input vector raised element-wise to the power of N - i - 1.\n",
        "\n",
        "HINT: Such a matrix with a geometric progression in each row is named for Alexandre- Theophile Vandermonde."
      ]
    },
    {
      "cell_type": "code",
      "metadata": {
        "id": "t2ryTY9aHdTa",
        "colab_type": "code",
        "colab": {}
      },
      "source": [
        "import numpy as np"
      ],
      "execution_count": 4,
      "outputs": []
    },
    {
      "cell_type": "code",
      "metadata": {
        "id": "sWMbMq_KHdTd",
        "colab_type": "code",
        "colab": {}
      },
      "source": [
        "def vandermode(inputvector, n , increase):\n",
        "    if (increase==False):\n",
        "        output = np.array([x**(n-i-1) for x in inputvector for i in range(n)]).reshape(inputvector.size, n)\n",
        "    elif (increase==True):\n",
        "        output = np.array([x**i for x in inputvector for i in range(n)]).reshape(inputvector.size,n)\n",
        "        \n",
        "    return output\n",
        "\n"
      ],
      "execution_count": 20,
      "outputs": []
    },
    {
      "cell_type": "code",
      "metadata": {
        "id": "-6651g38HdTf",
        "colab_type": "code",
        "colab": {
          "base_uri": "https://localhost:8080/",
          "height": 319
        },
        "outputId": "f907c976-369f-4d8d-df39-f5108cfc927c"
      },
      "source": [
        "ip = np.array([1,2,3,4,5])\n",
        "column = 3\n",
        "dec_order = vandermode(ip,column,False)\n",
        "inc_order = vandermode(ip,column,True)\n",
        "\n",
        "print('The input vector :',ip,'\\n')\n",
        "print('the no. of columns : ', column , \"\\n\")\n",
        "print('Increasing Order : ', \"\\n\" , dec_order, \"\\n\")\n",
        "print('Increasing Order : ',\"\\n\", inc_order , \"\\n\")\n",
        "\n"
      ],
      "execution_count": 21,
      "outputs": [
        {
          "output_type": "stream",
          "text": [
            "The input vector : [1 2 3 4 5] \n",
            "\n",
            "the no. of columns :  3 \n",
            "\n",
            "Increasing Order :  \n",
            " [[ 1  1  1]\n",
            " [ 4  2  1]\n",
            " [ 9  3  1]\n",
            " [16  4  1]\n",
            " [25  5  1]] \n",
            "\n",
            "Increasing Order :  \n",
            " [[ 1  1  1]\n",
            " [ 1  2  4]\n",
            " [ 1  3  9]\n",
            " [ 1  4 16]\n",
            " [ 1  5 25]] \n",
            "\n"
          ],
          "name": "stdout"
        }
      ]
    },
    {
      "cell_type": "markdown",
      "metadata": {
        "id": "SvLByNUeVcj7",
        "colab_type": "text"
      },
      "source": [
        "\n",
        "Question: Write a function to find moving average in an array over a window:\n",
        "Test it over [3, 5, 7, 2, 8, 10, 11, 65, 72, 81, 99, 100, 150] and window of 3."
      ]
    },
    {
      "cell_type": "code",
      "metadata": {
        "id": "eGlHJ8yxVPMD",
        "colab_type": "code",
        "colab": {
          "base_uri": "https://localhost:8080/",
          "height": 67
        },
        "outputId": "8a0ec1cd-4ecf-4e49-b0e1-8aa1a1374d37"
      },
      "source": [
        "import numpy as np\n",
        "def average(a, n=3) :\n",
        "    ret = np.cumsum(a, dtype=float)\n",
        "    ret[n:] = ret[n:] - ret[:-n]\n",
        "    return ret[n - 1:] / n\n",
        "a = [3, 5, 7, 2, 8, 10, 11, 65, 72, 81, 99, 100, 150]\n",
        "print(average(a, n=3))\n"
      ],
      "execution_count": 22,
      "outputs": [
        {
          "output_type": "stream",
          "text": [
            "[  5.           4.66666667   5.66666667   6.66666667   9.66666667\n",
            "  28.66666667  49.33333333  72.66666667  84.          93.33333333\n",
            " 116.33333333]\n"
          ],
          "name": "stdout"
        }
      ]
    },
    {
      "cell_type": "code",
      "metadata": {
        "id": "HXaTJBWiV0CX",
        "colab_type": "code",
        "colab": {}
      },
      "source": [
        ""
      ],
      "execution_count": null,
      "outputs": []
    }
  ]
}